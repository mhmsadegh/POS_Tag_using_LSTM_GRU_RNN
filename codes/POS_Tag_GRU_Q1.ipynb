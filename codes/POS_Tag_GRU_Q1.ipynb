{
  "nbformat": 4,
  "nbformat_minor": 0,
  "metadata": {
    "colab": {
      "name": "POS_Tag_GRU_Q1.ipynb",
      "provenance": [],
      "collapsed_sections": []
    },
    "kernelspec": {
      "name": "python3",
      "display_name": "Python 3"
    },
    "language_info": {
      "name": "python"
    },
    "accelerator": "GPU"
  },
  "cells": [
    {
      "cell_type": "code",
      "execution_count": null,
      "metadata": {
        "id": "zzC64qO-qkPf"
      },
      "outputs": [],
      "source": [
        "import pandas as pd\n",
        "import numpy as np\n",
        "import torch\n",
        "import torch.nn as nn\n",
        "import torch.nn.functional as F\n",
        "import torch.optim as optim"
      ]
    },
    {
      "cell_type": "code",
      "source": [
        "import nltk\n",
        "nltk.download('treebank')\n",
        "nltk.download('universal_tagset')\n",
        "tagged_sentence = nltk.corpus.treebank.tagged_sents(tagset='universal')\n",
        "print(\"Number of Tagged Sentences \",len(tagged_sentence))"
      ],
      "metadata": {
        "colab": {
          "base_uri": "https://localhost:8080/"
        },
        "id": "-VG6L0hUqlMr",
        "outputId": "288dd3be-ada5-42cc-8ca5-3341acffd8ef"
      },
      "execution_count": null,
      "outputs": [
        {
          "output_type": "stream",
          "name": "stdout",
          "text": [
            "[nltk_data] Downloading package treebank to /root/nltk_data...\n",
            "[nltk_data]   Unzipping corpora/treebank.zip.\n",
            "[nltk_data] Downloading package universal_tagset to /root/nltk_data...\n",
            "[nltk_data]   Unzipping taggers/universal_tagset.zip.\n",
            "Number of Tagged Sentences  3914\n"
          ]
        }
      ]
    },
    {
      "cell_type": "code",
      "source": [
        "def word_to_ix(word, ix):\n",
        "    return torch.tensor(ix[word], dtype = torch.long)\n",
        "\n",
        "def char_to_ix(char, ix):\n",
        "    return torch.tensor(ix[char], dtype= torch.long)\n",
        "\n",
        "def tag_to_ix(tag, ix):\n",
        "    return torch.tensor(ix[tag], dtype= torch.long)\n",
        "\n",
        "def sequence_to_idx(sequence, ix):\n",
        "    return torch.tensor([ix[s] for s in sequence], dtype=torch.long)\n",
        "\n",
        "\n",
        "word_to_idx = {}\n",
        "tag_to_idx = {}\n",
        "char_to_idx = {}\n",
        "for sentence in tagged_sentence:\n",
        "    for word, pos_tag in sentence:\n",
        "        if word not in word_to_idx.keys():\n",
        "            word_to_idx[word] = len(word_to_idx)\n",
        "        if pos_tag not in tag_to_idx.keys():\n",
        "            tag_to_idx[pos_tag] = len(tag_to_idx)\n",
        "        for char in word:\n",
        "            if char not in char_to_idx.keys():\n",
        "                char_to_idx[char] = len(char_to_idx)"
      ],
      "metadata": {
        "id": "vVZ1DpiPqpVy"
      },
      "execution_count": null,
      "outputs": []
    },
    {
      "cell_type": "code",
      "source": [
        "word_vocab_size = len(word_to_idx)\n",
        "tag_vocab_size = len(tag_to_idx)\n",
        "char_vocab_size = len(char_to_idx)\n",
        "\n",
        "print(\"Unique words: {}\".format(len(word_to_idx)))\n",
        "print(\"Unique tags: {}\".format(len(tag_to_idx)))\n",
        "print(\"Unique characters: {}\".format(len(char_to_idx)))"
      ],
      "metadata": {
        "colab": {
          "base_uri": "https://localhost:8080/"
        },
        "id": "Oi3Wx6mIq0fq",
        "outputId": "c76846fb-69ec-4014-b8a6-128cc5343409"
      },
      "execution_count": null,
      "outputs": [
        {
          "output_type": "stream",
          "name": "stdout",
          "text": [
            "Unique words: 12408\n",
            "Unique tags: 12\n",
            "Unique characters: 79\n"
          ]
        }
      ]
    },
    {
      "cell_type": "code",
      "source": [
        "from sklearn.model_selection import train_test_split\n",
        "\n",
        "\n",
        "test_size_p = 0.15\n",
        "validation_size_p = 0.15\n",
        "\n",
        "test_size= int(len(tagged_sentence) * test_size_p)\n",
        "validation_size_p= int(len(tagged_sentence) * validation_size_p)\n",
        "\n",
        "#Splitting into training, test and validation : \n",
        "train_set, test_set = train_test_split(tagged_sentence,test_size=test_size,random_state = 42)\n",
        "train_set, validation_set = train_test_split(train_set,test_size=validation_size_p,random_state = 42)\n",
        "\n",
        "#Get length of training, test and validation set : \n",
        "print(len(train_set))\n",
        "print(len(test_set))\n",
        "print(len(validation_set))"
      ],
      "metadata": {
        "colab": {
          "base_uri": "https://localhost:8080/"
        },
        "id": "oFjUB0GVsDVh",
        "outputId": "0a7eff5e-a8af-4da8-f5ec-5f9efb9e0cc4"
      },
      "execution_count": null,
      "outputs": [
        {
          "output_type": "stream",
          "name": "stdout",
          "text": [
            "2740\n",
            "587\n",
            "587\n"
          ]
        }
      ]
    },
    {
      "cell_type": "markdown",
      "source": [
        "Parameter : "
      ],
      "metadata": {
        "id": "j16Tq0qEsZ1p"
      }
    },
    {
      "cell_type": "code",
      "source": [
        "WORD_EMBEDDING_DIM = 1024\n",
        "WORD_HIDDEN_DIM = 256\n",
        "EPOCHS = 10"
      ],
      "metadata": {
        "id": "f3mTeyIisZue"
      },
      "execution_count": null,
      "outputs": []
    },
    {
      "cell_type": "code",
      "source": [
        "\n",
        "\n",
        "class GRU(nn.Module):\n",
        "    def __init__(self, embedding_dim, hidden_dim, vocab_size, target_size):\n",
        "        super(GRU, self).__init__()\n",
        "        \n",
        "        self.hidden_dim = hidden_dim\n",
        "        \n",
        "        self.word_embeddings = nn.Embedding(vocab_size, embedding_dim)\n",
        "        \n",
        "        self.gru = nn.GRU(embedding_dim, hidden_dim)\n",
        "        \n",
        "        self.hidden2tag = nn.Linear(hidden_dim, target_size)\n",
        "        \n",
        "    def forward(self, sentence):\n",
        "        embeds = self.word_embeddings(sentence)\n",
        "        lstm_out, _ = self.gru(embeds.view(len(sentence), 1, -1))\n",
        "        tag_space = self.hidden2tag(lstm_out.view(len(sentence), -1))\n",
        "        tag_scores = F.log_softmax(tag_space, dim=1)\n",
        "        return tag_scores\n",
        "\n",
        "\n"
      ],
      "metadata": {
        "id": "SjOoqBASscLb"
      },
      "execution_count": null,
      "outputs": []
    },
    {
      "cell_type": "code",
      "source": [
        "model = GRU(WORD_EMBEDDING_DIM, WORD_HIDDEN_DIM, word_vocab_size,tag_vocab_size)\n",
        "\n",
        "use_cuda = torch.cuda.is_available()\n",
        "device = torch.device(\"cuda:0\" if use_cuda else \"cpu\")\n",
        "\n",
        "if use_cuda:\n",
        "  print(\"Cuda:\")\n",
        "  model.cuda()\n",
        "\n",
        "\n",
        "loss_function = nn.CrossEntropyLoss()\n",
        "\n",
        "optimizer = optim.Adamax(model.parameters(), lr=0.001,weight_decay=0.0003)\n"
      ],
      "metadata": {
        "colab": {
          "base_uri": "https://localhost:8080/"
        },
        "id": "LDLZs-mQtKpD",
        "outputId": "2a526d64-0ee3-4c97-abb9-209c9b1cc1e6"
      },
      "execution_count": null,
      "outputs": [
        {
          "output_type": "stream",
          "name": "stdout",
          "text": [
            "Cuda:\n"
          ]
        }
      ]
    },
    {
      "cell_type": "code",
      "source": [
        "train_loss_list = []\n",
        "val_loss_list = []\n",
        "train_acc_list =[]\n",
        "val_acc_list =[]\n",
        "for epoch in range(EPOCHS):\n",
        "  \n",
        "  train_loss =0 \n",
        "  train_acc = 0\n",
        "\n",
        "  val_acc = 0\n",
        "  val_loss = 0\n",
        "\n",
        "\n",
        "  for sentence_tag in train_set:\n",
        "    \n",
        "    model.zero_grad()\n",
        "\n",
        "\n",
        "    sentence = [s[0] for s in sentence_tag]\n",
        "    sentence = torch.tensor(sequence_to_idx(sentence, word_to_idx), dtype=torch.long).to(device)\n",
        "    targets = [s[1] for s in sentence_tag]\n",
        "    targets = torch.tensor(sequence_to_idx(targets, tag_to_idx), dtype=torch.long).to(device)\n",
        "\n",
        "\n",
        "    \n",
        "    tag_scores = model(sentence)\n",
        "    \n",
        "    loss = loss_function(tag_scores, targets)\n",
        "    loss.backward()\n",
        "    optimizer.step()\n",
        "    train_loss += loss.item()\n",
        "\n",
        "\n",
        "    _, indices = torch.max(tag_scores, 1)\n",
        "    train_acc += torch.mean(torch.tensor(targets == indices, dtype=torch.float))\n",
        "\n",
        "  train_loss_list.append(train_loss/len(training_data))\n",
        "  train_acc_list.append(float(train_acc/len(training_data)))\n",
        "\n",
        "  for sentence_tag in validation_set:\n",
        "\n",
        "\n",
        "    sentence = [s[0] for s in sentence_tag]\n",
        "    sentence = torch.tensor(sequence_to_idx(sentence, word_to_idx), dtype=torch.long).to(device)\n",
        "    targets = [s[1] for s in sentence_tag]\n",
        "    targets = torch.tensor(sequence_to_idx(targets, tag_to_idx), dtype=torch.long).to(device)\n",
        "\n",
        "\n",
        "\n",
        "    tag_scores = model(sentence)\n",
        "    \n",
        "    loss = loss_function(tag_scores, targets)\n",
        "    val_loss += loss.item()\n",
        "    _, indices = torch.max(tag_scores, 1)\n",
        "    val_acc += torch.mean(torch.tensor(targets == indices, dtype=torch.float))\n",
        "  val_loss_list.append(val_loss/len(valiation_data))\n",
        "  val_acc_list.append(float(val_acc/len(valiation_data)))\n",
        "  print(\"Epoch: \", epoch +1,\" val loss: \",val_loss/len(valiation_data), \" val acc: \", float(val_acc/len(valiation_data)),\n",
        "        \" train loss : \", train_loss/len(training_data),\" train acc: \",float(train_acc/len(training_data)))\n",
        "\n",
        "\n",
        "\n"
      ],
      "metadata": {
        "colab": {
          "base_uri": "https://localhost:8080/"
        },
        "id": "vdo-Eo3GL7tW",
        "outputId": "576ca653-9b2a-4b33-a59d-4b5af3dfbe06"
      },
      "execution_count": null,
      "outputs": [
        {
          "output_type": "stream",
          "name": "stderr",
          "text": [
            "/usr/local/lib/python3.7/dist-packages/ipykernel_launcher.py:20: UserWarning: To copy construct from a tensor, it is recommended to use sourceTensor.clone().detach() or sourceTensor.clone().detach().requires_grad_(True), rather than torch.tensor(sourceTensor).\n",
            "/usr/local/lib/python3.7/dist-packages/ipykernel_launcher.py:22: UserWarning: To copy construct from a tensor, it is recommended to use sourceTensor.clone().detach() or sourceTensor.clone().detach().requires_grad_(True), rather than torch.tensor(sourceTensor).\n",
            "/usr/local/lib/python3.7/dist-packages/ipykernel_launcher.py:35: UserWarning: To copy construct from a tensor, it is recommended to use sourceTensor.clone().detach() or sourceTensor.clone().detach().requires_grad_(True), rather than torch.tensor(sourceTensor).\n",
            "/usr/local/lib/python3.7/dist-packages/ipykernel_launcher.py:44: UserWarning: To copy construct from a tensor, it is recommended to use sourceTensor.clone().detach() or sourceTensor.clone().detach().requires_grad_(True), rather than torch.tensor(sourceTensor).\n",
            "/usr/local/lib/python3.7/dist-packages/ipykernel_launcher.py:46: UserWarning: To copy construct from a tensor, it is recommended to use sourceTensor.clone().detach() or sourceTensor.clone().detach().requires_grad_(True), rather than torch.tensor(sourceTensor).\n",
            "/usr/local/lib/python3.7/dist-packages/ipykernel_launcher.py:55: UserWarning: To copy construct from a tensor, it is recommended to use sourceTensor.clone().detach() or sourceTensor.clone().detach().requires_grad_(True), rather than torch.tensor(sourceTensor).\n"
          ]
        },
        {
          "output_type": "stream",
          "name": "stdout",
          "text": [
            "Epoch:  1  val loss:  0.41250169689702015  val acc:  0.8752584457397461  train loss :  0.6140229748820302  train acc:  0.8217439651489258\n",
            "Epoch:  2  val loss:  0.3054412888328099  val acc:  0.9058230519294739  train loss :  0.3307879339923987  train acc:  0.9015088081359863\n",
            "Epoch:  3  val loss:  0.2559127755624955  val acc:  0.9177430868148804  train loss :  0.2357455917049444  train acc:  0.9294787645339966\n",
            "Epoch:  4  val loss:  0.2310153721011477  val acc:  0.928141713142395  train loss :  0.18219210117219192  train acc:  0.9457343816757202\n",
            "Epoch:  5  val loss:  0.21797532633064376  val acc:  0.9339148998260498  train loss :  0.14840798575174485  train acc:  0.9574515223503113\n",
            "Epoch:  6  val loss:  0.21083395509247618  val acc:  0.9367789030075073  train loss :  0.12579180962783387  train acc:  0.9659867286682129\n",
            "Epoch:  7  val loss:  0.20667230019431554  val acc:  0.9386214017868042  train loss :  0.11055490253756611  train acc:  0.9712336659431458\n",
            "Epoch:  8  val loss:  0.2044890537704111  val acc:  0.9402629733085632  train loss :  0.1002822919545634  train acc:  0.9747913479804993\n",
            "Epoch:  9  val loss:  0.20403778351553012  val acc:  0.940423309803009  train loss :  0.09313812639124956  train acc:  0.9775603413581848\n",
            "Epoch:  10  val loss:  0.2042747545056045  val acc:  0.9401662945747375  train loss :  0.08795498245766209  train acc:  0.9793050289154053\n"
          ]
        }
      ]
    },
    {
      "cell_type": "code",
      "source": [
        "import matplotlib.pyplot as plt\n",
        "\n",
        "\n",
        "plt.plot(val_loss_list,label=\"Val loss\")\n",
        "plt.plot(train_loss_list,label=\"Train loss\")\n",
        "\n",
        "plt.xlabel(\"Epoch\")\n",
        "plt.ylabel(\"loss\")\n",
        "plt.legend()\n",
        "plt.title(\"loss / epoch (GRU:hidden layer size : 256)\")\n",
        "plt.show()"
      ],
      "metadata": {
        "colab": {
          "base_uri": "https://localhost:8080/",
          "height": 295
        },
        "id": "SY5-DZWnAbws",
        "outputId": "12055cf4-2fc4-4ac8-c069-20fdf9b05853"
      },
      "execution_count": null,
      "outputs": [
        {
          "output_type": "display_data",
          "data": {
            "text/plain": [
              "<Figure size 432x288 with 1 Axes>"
            ],
            "image/png": "[encoded data removed]"
          },
          "metadata": {
            "needs_background": "light"
          }
        }
      ]
    },
    {
      "cell_type": "code",
      "source": [
        "import matplotlib.pyplot as plt\n",
        "\n",
        "\n",
        "plt.plot(val_acc_list,label=\"Val accuracy\")\n",
        "plt.plot(train_acc_list,label=\"Train accuracy\")\n",
        "\n",
        "plt.xlabel(\"Epoch\")\n",
        "plt.ylabel(\"Accuracy\")\n",
        "plt.legend()\n",
        "plt.title(\"Accuracy / epoch (GRU :hidden layer size : 256)\")\n",
        "plt.show()"
      ],
      "metadata": {
        "colab": {
          "base_uri": "https://localhost:8080/",
          "height": 295
        },
        "id": "TjL-VA9WBIEn",
        "outputId": "762698fc-d61d-41e2-f66c-3ce74c1bd349"
      },
      "execution_count": null,
      "outputs": [
        {
          "output_type": "display_data",
          "data": {
            "text/plain": [
              "<Figure size 432x288 with 1 Axes>"
            ],
            "image/png": "[encoded data removed]"
          },
          "metadata": {
            "needs_background": "light"
          }
        }
      ]
    },
    {
      "cell_type": "code",
      "source": [
        "test_acc = 0 \n",
        "for sentence_tag in test_set:\n",
        "\n",
        "\n",
        "  sentence = [s[0] for s in sentence_tag]\n",
        "  sentence = torch.tensor(sequence_to_idx(sentence, word_to_idx), dtype=torch.long).to(device)\n",
        "  targets = [s[1] for s in sentence_tag]\n",
        "  targets = torch.tensor(sequence_to_idx(targets, tag_to_idx), dtype=torch.long).to(device)\n",
        "\n",
        "\n",
        "\n",
        "  tag_scores = model(sentence)\n",
        "  _, indices = torch.max(tag_scores, 1)\n",
        "  test_acc += torch.mean(torch.tensor(targets == indices, dtype=torch.float))\n",
        "\n",
        "print(\"test accuracy:\",float(test_acc/len(test_set)))"
      ],
      "metadata": {
        "colab": {
          "base_uri": "https://localhost:8080/"
        },
        "id": "I8bmpxo2EanG",
        "outputId": "f0503193-f73c-4ed0-9dbc-02adb6a83ab3"
      },
      "execution_count": null,
      "outputs": [
        {
          "output_type": "stream",
          "name": "stderr",
          "text": [
            "/usr/local/lib/python3.7/dist-packages/ipykernel_launcher.py:6: UserWarning: To copy construct from a tensor, it is recommended to use sourceTensor.clone().detach() or sourceTensor.clone().detach().requires_grad_(True), rather than torch.tensor(sourceTensor).\n",
            "  \n",
            "/usr/local/lib/python3.7/dist-packages/ipykernel_launcher.py:8: UserWarning: To copy construct from a tensor, it is recommended to use sourceTensor.clone().detach() or sourceTensor.clone().detach().requires_grad_(True), rather than torch.tensor(sourceTensor).\n",
            "  \n",
            "/usr/local/lib/python3.7/dist-packages/ipykernel_launcher.py:14: UserWarning: To copy construct from a tensor, it is recommended to use sourceTensor.clone().detach() or sourceTensor.clone().detach().requires_grad_(True), rather than torch.tensor(sourceTensor).\n",
            "  \n"
          ]
        },
        {
          "output_type": "stream",
          "name": "stdout",
          "text": [
            "test accuracy: 0.9458646774291992\n"
          ]
        }
      ]
    }
  ]
}