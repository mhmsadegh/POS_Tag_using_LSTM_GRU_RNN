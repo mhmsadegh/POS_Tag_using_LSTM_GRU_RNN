{
  "nbformat": 4,
  "nbformat_minor": 0,
  "metadata": {
    "colab": {
      "name": "POS_TAG_RNN.ipynb",
      "provenance": [],
      "collapsed_sections": []
    },
    "kernelspec": {
      "name": "python3",
      "display_name": "Python 3"
    },
    "language_info": {
      "name": "python"
    },
    "accelerator": "GPU"
  },
  "cells": [
    {
      "cell_type": "code",
      "execution_count": null,
      "metadata": {
        "id": "zzC64qO-qkPf"
      },
      "outputs": [],
      "source": [
        "import pandas as pd\n",
        "import numpy as np\n",
        "import torch\n",
        "import torch.nn as nn\n",
        "import torch.nn.functional as F\n",
        "import torch.optim as optim"
      ]
    },
    {
      "cell_type": "code",
      "source": [
        "import nltk\n",
        "nltk.download('treebank')\n",
        "nltk.download('universal_tagset')\n",
        "tagged_sentence = nltk.corpus.treebank.tagged_sents(tagset='universal')\n",
        "print(\"Number of Tagged Sentences \",len(tagged_sentence))"
      ],
      "metadata": {
        "colab": {
          "base_uri": "https://localhost:8080/"
        },
        "id": "-VG6L0hUqlMr",
        "outputId": "288dd3be-ada5-42cc-8ca5-3341acffd8ef"
      },
      "execution_count": null,
      "outputs": [
        {
          "output_type": "stream",
          "name": "stdout",
          "text": [
            "[nltk_data] Downloading package treebank to /root/nltk_data...\n",
            "[nltk_data]   Unzipping corpora/treebank.zip.\n",
            "[nltk_data] Downloading package universal_tagset to /root/nltk_data...\n",
            "[nltk_data]   Unzipping taggers/universal_tagset.zip.\n",
            "Number of Tagged Sentences  3914\n"
          ]
        }
      ]
    },
    {
      "cell_type": "code",
      "source": [
        "def word_to_ix(word, ix):\n",
        "    return torch.tensor(ix[word], dtype = torch.long)\n",
        "\n",
        "def char_to_ix(char, ix):\n",
        "    return torch.tensor(ix[char], dtype= torch.long)\n",
        "\n",
        "def tag_to_ix(tag, ix):\n",
        "    return torch.tensor(ix[tag], dtype= torch.long)\n",
        "\n",
        "def sequence_to_idx(sequence, ix):\n",
        "    return torch.tensor([ix[s] for s in sequence], dtype=torch.long)\n",
        "\n",
        "\n",
        "word_to_idx = {}\n",
        "tag_to_idx = {}\n",
        "char_to_idx = {}\n",
        "for sentence in tagged_sentence:\n",
        "    for word, pos_tag in sentence:\n",
        "        if word not in word_to_idx.keys():\n",
        "            word_to_idx[word] = len(word_to_idx)\n",
        "        if pos_tag not in tag_to_idx.keys():\n",
        "            tag_to_idx[pos_tag] = len(tag_to_idx)\n",
        "        for char in word:\n",
        "            if char not in char_to_idx.keys():\n",
        "                char_to_idx[char] = len(char_to_idx)"
      ],
      "metadata": {
        "id": "vVZ1DpiPqpVy"
      },
      "execution_count": null,
      "outputs": []
    },
    {
      "cell_type": "code",
      "source": [
        "word_vocab_size = len(word_to_idx)\n",
        "tag_vocab_size = len(tag_to_idx)\n",
        "char_vocab_size = len(char_to_idx)\n",
        "\n",
        "print(\"Unique words: {}\".format(len(word_to_idx)))\n",
        "print(\"Unique tags: {}\".format(len(tag_to_idx)))\n",
        "print(\"Unique characters: {}\".format(len(char_to_idx)))"
      ],
      "metadata": {
        "colab": {
          "base_uri": "https://localhost:8080/"
        },
        "id": "Oi3Wx6mIq0fq",
        "outputId": "c76846fb-69ec-4014-b8a6-128cc5343409"
      },
      "execution_count": null,
      "outputs": [
        {
          "output_type": "stream",
          "name": "stdout",
          "text": [
            "Unique words: 12408\n",
            "Unique tags: 12\n",
            "Unique characters: 79\n"
          ]
        }
      ]
    },
    {
      "cell_type": "code",
      "source": [
        "from sklearn.model_selection import train_test_split\n",
        "\n",
        "\n",
        "test_size_p = 0.15\n",
        "validation_size_p = 0.15\n",
        "\n",
        "test_size= int(len(tagged_sentence) * test_size_p)\n",
        "validation_size_p= int(len(tagged_sentence) * validation_size_p)\n",
        "\n",
        "#Splitting into training, test and validation : \n",
        "train_set, test_set = train_test_split(tagged_sentence,test_size=test_size,random_state = 42)\n",
        "train_set, validation_set = train_test_split(train_set,test_size=validation_size_p,random_state = 42)\n",
        "\n",
        "#Get length of training, test and validation set : \n",
        "print(len(train_set))\n",
        "print(len(test_set))\n",
        "print(len(validation_set))"
      ],
      "metadata": {
        "colab": {
          "base_uri": "https://localhost:8080/"
        },
        "id": "oFjUB0GVsDVh",
        "outputId": "0a7eff5e-a8af-4da8-f5ec-5f9efb9e0cc4"
      },
      "execution_count": null,
      "outputs": [
        {
          "output_type": "stream",
          "name": "stdout",
          "text": [
            "2740\n",
            "587\n",
            "587\n"
          ]
        }
      ]
    },
    {
      "cell_type": "markdown",
      "source": [
        "Parameter : "
      ],
      "metadata": {
        "id": "j16Tq0qEsZ1p"
      }
    },
    {
      "cell_type": "code",
      "source": [
        "WORD_EMBEDDING_DIM = 1024\n",
        "WORD_HIDDEN_DIM = 256\n",
        "EPOCHS = 10"
      ],
      "metadata": {
        "id": "f3mTeyIisZue"
      },
      "execution_count": null,
      "outputs": []
    },
    {
      "cell_type": "code",
      "source": [
        "\n",
        "\n",
        "class RNN(nn.Module):\n",
        "    def __init__(self, embedding_dim, hidden_dim, vocab_size, target_size):\n",
        "        super(RNN, self).__init__()\n",
        "        \n",
        "        self.hidden_dim = hidden_dim\n",
        "        \n",
        "        self.word_embeddings = nn.Embedding(vocab_size, embedding_dim)\n",
        "\n",
        "        self.rnn = nn.RNN(embedding_dim, hidden_dim)\n",
        "        self.hidden2tag = nn.Linear(hidden_dim, target_size)\n",
        "        \n",
        "    def forward(self, sentence):\n",
        "        embeds = self.word_embeddings(sentence)\n",
        "        lstm_out, _ = self.rnn(embeds.view(len(sentence), 1, -1))\n",
        "        tag_space = self.hidden2tag(lstm_out.view(len(sentence), -1))\n",
        "        tag_scores = F.log_softmax(tag_space, dim=1)\n",
        "        return tag_scores\n",
        "\n",
        "\n"
      ],
      "metadata": {
        "id": "SjOoqBASscLb"
      },
      "execution_count": null,
      "outputs": []
    },
    {
      "cell_type": "code",
      "source": [
        "model = RNN(WORD_EMBEDDING_DIM, WORD_HIDDEN_DIM, word_vocab_size,tag_vocab_size)\n",
        "\n",
        "use_cuda = torch.cuda.is_available()\n",
        "device = torch.device(\"cuda:0\" if use_cuda else \"cpu\")\n",
        "\n",
        "if use_cuda:\n",
        "  print(\"Cuda:\")\n",
        "  model.cuda()\n",
        "\n",
        "\n",
        "loss_function = nn.CrossEntropyLoss()\n",
        "\n",
        "optimizer = optim.Adamax(model.parameters(), lr=0.001,weight_decay=0.0003)\n"
      ],
      "metadata": {
        "colab": {
          "base_uri": "https://localhost:8080/"
        },
        "id": "LDLZs-mQtKpD",
        "outputId": "03a3ddc1-cd4e-4309-9b23-9d83e92ddf95"
      },
      "execution_count": null,
      "outputs": [
        {
          "output_type": "stream",
          "name": "stdout",
          "text": [
            "Cuda:\n"
          ]
        }
      ]
    },
    {
      "cell_type": "markdown",
      "source": [
        "1024 hidden layer : "
      ],
      "metadata": {
        "id": "YOLyaOiQGWzu"
      }
    },
    {
      "cell_type": "code",
      "source": [
        "train_loss_list = []\n",
        "val_loss_list = []\n",
        "train_acc_list =[]\n",
        "val_acc_list =[]\n",
        "for epoch in range(EPOCHS):\n",
        "  \n",
        "  train_loss =0 \n",
        "  train_acc = 0\n",
        "\n",
        "  val_acc = 0\n",
        "  val_loss = 0\n",
        "\n",
        "\n",
        "  for sentence_tag in train_set:\n",
        "    \n",
        "    model.zero_grad()\n",
        "\n",
        "\n",
        "    sentence = [s[0] for s in sentence_tag]\n",
        "    sentence = torch.tensor(sequence_to_idx(sentence, word_to_idx), dtype=torch.long).to(device)\n",
        "    targets = [s[1] for s in sentence_tag]\n",
        "    targets = torch.tensor(sequence_to_idx(targets, tag_to_idx), dtype=torch.long).to(device)\n",
        "\n",
        "\n",
        "    \n",
        "    tag_scores = model(sentence)\n",
        "    \n",
        "    loss = loss_function(tag_scores, targets)\n",
        "    loss.backward()\n",
        "    optimizer.step()\n",
        "    train_loss += loss.item()\n",
        "\n",
        "\n",
        "    _, indices = torch.max(tag_scores, 1)\n",
        "    train_acc += torch.mean(torch.tensor(targets == indices, dtype=torch.float))\n",
        "\n",
        "  train_loss_list.append(train_loss/len(training_data))\n",
        "  train_acc_list.append(float(train_acc/len(training_data)))\n",
        "\n",
        "  for sentence_tag in validation_set:\n",
        "\n",
        "\n",
        "    sentence = [s[0] for s in sentence_tag]\n",
        "    sentence = torch.tensor(sequence_to_idx(sentence, word_to_idx), dtype=torch.long).to(device)\n",
        "    targets = [s[1] for s in sentence_tag]\n",
        "    targets = torch.tensor(sequence_to_idx(targets, tag_to_idx), dtype=torch.long).to(device)\n",
        "\n",
        "\n",
        "\n",
        "    tag_scores = model(sentence)\n",
        "    \n",
        "    loss = loss_function(tag_scores, targets)\n",
        "    val_loss += loss.item()\n",
        "    _, indices = torch.max(tag_scores, 1)\n",
        "    val_acc += torch.mean(torch.tensor(targets == indices, dtype=torch.float))\n",
        "  val_loss_list.append(val_loss/len(valiation_data))\n",
        "  val_acc_list.append(float(val_acc/len(valiation_data)))\n",
        "  print(\"Epoch: \", epoch +1,\" val loss: \",val_loss/len(valiation_data), \" val acc: \", float(val_acc/len(valiation_data)),\n",
        "        \" train loss : \", train_loss/len(training_data),\" train acc: \",float(train_acc/len(training_data)))\n",
        "\n",
        "\n",
        "\n"
      ],
      "metadata": {
        "colab": {
          "base_uri": "https://localhost:8080/"
        },
        "id": "dptI0g9ZteVB",
        "outputId": "caa5ec2e-e72c-4f87-82dd-1678188d043a"
      },
      "execution_count": null,
      "outputs": [
        {
          "output_type": "stream",
          "name": "stderr",
          "text": [
            "/usr/local/lib/python3.7/dist-packages/ipykernel_launcher.py:21: UserWarning: To copy construct from a tensor, it is recommended to use sourceTensor.clone().detach() or sourceTensor.clone().detach().requires_grad_(True), rather than torch.tensor(sourceTensor).\n",
            "/usr/local/lib/python3.7/dist-packages/ipykernel_launcher.py:23: UserWarning: To copy construct from a tensor, it is recommended to use sourceTensor.clone().detach() or sourceTensor.clone().detach().requires_grad_(True), rather than torch.tensor(sourceTensor).\n",
            "/usr/local/lib/python3.7/dist-packages/ipykernel_launcher.py:36: UserWarning: To copy construct from a tensor, it is recommended to use sourceTensor.clone().detach() or sourceTensor.clone().detach().requires_grad_(True), rather than torch.tensor(sourceTensor).\n",
            "/usr/local/lib/python3.7/dist-packages/ipykernel_launcher.py:46: UserWarning: To copy construct from a tensor, it is recommended to use sourceTensor.clone().detach() or sourceTensor.clone().detach().requires_grad_(True), rather than torch.tensor(sourceTensor).\n",
            "/usr/local/lib/python3.7/dist-packages/ipykernel_launcher.py:48: UserWarning: To copy construct from a tensor, it is recommended to use sourceTensor.clone().detach() or sourceTensor.clone().detach().requires_grad_(True), rather than torch.tensor(sourceTensor).\n",
            "/usr/local/lib/python3.7/dist-packages/ipykernel_launcher.py:57: UserWarning: To copy construct from a tensor, it is recommended to use sourceTensor.clone().detach() or sourceTensor.clone().detach().requires_grad_(True), rather than torch.tensor(sourceTensor).\n"
          ]
        },
        {
          "output_type": "stream",
          "name": "stdout",
          "text": [
            "Epoch:  1  val loss:  0.45706377594114567  val acc:  0.8616904020309448  train loss :  0.5758935760958188  train acc:  0.8205646872520447\n",
            "Epoch:  2  val loss:  0.3795191716542388  val acc:  0.8839564323425293  train loss :  0.3974065284312696  train acc:  0.8763065338134766\n",
            "Epoch:  3  val loss:  0.32255105626352093  val acc:  0.900072455406189  train loss :  0.3006782410367236  train acc:  0.9068652391433716\n",
            "Epoch:  4  val loss:  0.29106258664968754  val acc:  0.9103796482086182  train loss :  0.23708767153774762  train acc:  0.9282220602035522\n",
            "Epoch:  5  val loss:  0.2695506768395531  val acc:  0.9181778430938721  train loss :  0.1945901819003447  train acc:  0.9419355988502502\n",
            "Epoch:  6  val loss:  0.26432272709677634  val acc:  0.9224165678024292  train loss :  0.162662635332468  train acc:  0.9537404179573059\n",
            "Epoch:  7  val loss:  0.25498719670884373  val acc:  0.9247406125068665  train loss :  0.14046858357385406  train acc:  0.9615830779075623\n",
            "Epoch:  8  val loss:  0.253784104417954  val acc:  0.9285942316055298  train loss :  0.12496182137690688  train acc:  0.966651439666748\n",
            "Epoch:  9  val loss:  0.2559869021676668  val acc:  0.928513765335083  train loss :  0.11420216654732408  train acc:  0.9702838659286499\n",
            "Epoch:  10  val loss:  0.25229008192830327  val acc:  0.9298070669174194  train loss :  0.1066260327580368  train acc:  0.9729375839233398\n"
          ]
        }
      ]
    },
    {
      "cell_type": "code",
      "source": [
        "import matplotlib.pyplot as plt\n",
        "\n",
        "\n",
        "plt.plot(val_loss_list)\n",
        "plt.plot(train_loss_list)\n",
        "\n",
        "plt.xlabel(\"Epoch\")\n",
        "plt.ylabel(\"loss\")\n",
        "plt.title(\"loss / epoch (RNN:hidden layer size : 1024)\")\n",
        "plt.show()"
      ],
      "metadata": {
        "colab": {
          "base_uri": "https://localhost:8080/",
          "height": 295
        },
        "id": "SY5-DZWnAbws",
        "outputId": "8b34a694-5cb8-48e5-e17e-7eb96533c7b3"
      },
      "execution_count": null,
      "outputs": [
        {
          "output_type": "display_data",
          "data": {
            "text/plain": [
              "<Figure size 432x288 with 1 Axes>"
            ],
            "image/png": "[encoded data removed]"
          },
          "metadata": {
            "needs_background": "light"
          }
        }
      ]
    },
    {
      "cell_type": "code",
      "source": [
        "import matplotlib.pyplot as plt\n",
        "\n",
        "\n",
        "plt.plot(val_acc_list)\n",
        "plt.plot(train_acc_list)\n",
        "\n",
        "plt.xlabel(\"Epoch\")\n",
        "plt.ylabel(\"Accuracy\")\n",
        "plt.title(\"Accuracy / epoch (RNN :hidden layer size : 1024)\")\n",
        "plt.show()"
      ],
      "metadata": {
        "colab": {
          "base_uri": "https://localhost:8080/",
          "height": 295
        },
        "id": "TjL-VA9WBIEn",
        "outputId": "ddc7a54a-c13e-48ae-87fd-907d43bfe1e6"
      },
      "execution_count": null,
      "outputs": [
        {
          "output_type": "display_data",
          "data": {
            "text/plain": [
              "<Figure size 432x288 with 1 Axes>"
            ],
            "image/png": "[encoded data removed]"
          },
          "metadata": {
            "needs_background": "light"
          }
        }
      ]
    },
    {
      "cell_type": "markdown",
      "source": [
        "accuracy (test data) : "
      ],
      "metadata": {
        "id": "75dPBNFQE-rr"
      }
    },
    {
      "cell_type": "code",
      "source": [
        "test_acc = 0 \n",
        "for sentence_tag in test_set:\n",
        "\n",
        "\n",
        "  sentence = [s[0] for s in sentence_tag]\n",
        "  sentence = torch.tensor(sequence_to_idx(sentence, word_to_idx), dtype=torch.long).to(device)\n",
        "  targets = [s[1] for s in sentence_tag]\n",
        "  targets = torch.tensor(sequence_to_idx(targets, tag_to_idx), dtype=torch.long).to(device)\n",
        "\n",
        "\n",
        "\n",
        "  tag_scores = model(sentence)\n",
        "  _, indices = torch.max(tag_scores, 1)\n",
        "  test_acc += torch.mean(torch.tensor(targets == indices, dtype=torch.float))\n",
        "\n",
        "print(\"test accuracy:\",float(test_acc/len(test_set)))"
      ],
      "metadata": {
        "colab": {
          "base_uri": "https://localhost:8080/"
        },
        "id": "I8bmpxo2EanG",
        "outputId": "1af6b7ed-cdfd-42ed-8425-86e41a850ac4"
      },
      "execution_count": null,
      "outputs": [
        {
          "output_type": "stream",
          "name": "stderr",
          "text": [
            "/usr/local/lib/python3.7/dist-packages/ipykernel_launcher.py:7: UserWarning: To copy construct from a tensor, it is recommended to use sourceTensor.clone().detach() or sourceTensor.clone().detach().requires_grad_(True), rather than torch.tensor(sourceTensor).\n",
            "  import sys\n",
            "/usr/local/lib/python3.7/dist-packages/ipykernel_launcher.py:9: UserWarning: To copy construct from a tensor, it is recommended to use sourceTensor.clone().detach() or sourceTensor.clone().detach().requires_grad_(True), rather than torch.tensor(sourceTensor).\n",
            "  if __name__ == '__main__':\n",
            "/usr/local/lib/python3.7/dist-packages/ipykernel_launcher.py:15: UserWarning: To copy construct from a tensor, it is recommended to use sourceTensor.clone().detach() or sourceTensor.clone().detach().requires_grad_(True), rather than torch.tensor(sourceTensor).\n",
            "  from ipykernel import kernelapp as app\n"
          ]
        },
        {
          "output_type": "stream",
          "name": "stdout",
          "text": [
            "test accuracy: 0.933292806148529\n"
          ]
        }
      ]
    },
    {
      "cell_type": "markdown",
      "source": [
        "512 hidden layer  : "
      ],
      "metadata": {
        "id": "Df4ZVHN9GiiF"
      }
    },
    {
      "cell_type": "code",
      "source": [
        "train_loss_list = []\n",
        "val_loss_list = []\n",
        "train_acc_list =[]\n",
        "val_acc_list =[]\n",
        "for epoch in range(EPOCHS):\n",
        "  \n",
        "  train_loss =0 \n",
        "  train_acc = 0\n",
        "\n",
        "  val_acc = 0\n",
        "  val_loss = 0\n",
        "\n",
        "\n",
        "  for sentence_tag in train_set:\n",
        "    \n",
        "    model.zero_grad()\n",
        "\n",
        "\n",
        "    sentence = [s[0] for s in sentence_tag]\n",
        "    sentence = torch.tensor(sequence_to_idx(sentence, word_to_idx), dtype=torch.long).to(device)\n",
        "    targets = [s[1] for s in sentence_tag]\n",
        "    targets = torch.tensor(sequence_to_idx(targets, tag_to_idx), dtype=torch.long).to(device)\n",
        "\n",
        "\n",
        "    \n",
        "    tag_scores = model(sentence)\n",
        "    \n",
        "    loss = loss_function(tag_scores, targets)\n",
        "    loss.backward()\n",
        "    optimizer.step()\n",
        "    train_loss += loss.item()\n",
        "\n",
        "\n",
        "    _, indices = torch.max(tag_scores, 1)\n",
        "    train_acc += torch.mean(torch.tensor(targets == indices, dtype=torch.float))\n",
        "\n",
        "  train_loss_list.append(train_loss/len(training_data))\n",
        "  train_acc_list.append(float(train_acc/len(training_data)))\n",
        "\n",
        "  for sentence_tag in validation_set:\n",
        "\n",
        "\n",
        "    sentence = [s[0] for s in sentence_tag]\n",
        "    sentence = torch.tensor(sequence_to_idx(sentence, word_to_idx), dtype=torch.long).to(device)\n",
        "    targets = [s[1] for s in sentence_tag]\n",
        "    targets = torch.tensor(sequence_to_idx(targets, tag_to_idx), dtype=torch.long).to(device)\n",
        "\n",
        "\n",
        "\n",
        "    tag_scores = model(sentence)\n",
        "    \n",
        "    loss = loss_function(tag_scores, targets)\n",
        "    val_loss += loss.item()\n",
        "    _, indices = torch.max(tag_scores, 1)\n",
        "    val_acc += torch.mean(torch.tensor(targets == indices, dtype=torch.float))\n",
        "  val_loss_list.append(val_loss/len(valiation_data))\n",
        "  val_acc_list.append(float(val_acc/len(valiation_data)))\n",
        "  print(\"Epoch: \", epoch +1,\" val loss: \",val_loss/len(valiation_data), \" val acc: \", float(val_acc/len(valiation_data)),\n",
        "        \" train loss : \", train_loss/len(training_data),\" train acc: \",float(train_acc/len(training_data)))\n",
        "\n",
        "\n",
        "\n"
      ],
      "metadata": {
        "colab": {
          "base_uri": "https://localhost:8080/"
        },
        "id": "B3u0mPsNGkRT",
        "outputId": "8fba231c-9cbd-4b42-d4f1-2447858886d7"
      },
      "execution_count": null,
      "outputs": [
        {
          "output_type": "stream",
          "name": "stderr",
          "text": [
            "/usr/local/lib/python3.7/dist-packages/ipykernel_launcher.py:21: UserWarning: To copy construct from a tensor, it is recommended to use sourceTensor.clone().detach() or sourceTensor.clone().detach().requires_grad_(True), rather than torch.tensor(sourceTensor).\n",
            "/usr/local/lib/python3.7/dist-packages/ipykernel_launcher.py:23: UserWarning: To copy construct from a tensor, it is recommended to use sourceTensor.clone().detach() or sourceTensor.clone().detach().requires_grad_(True), rather than torch.tensor(sourceTensor).\n",
            "/usr/local/lib/python3.7/dist-packages/ipykernel_launcher.py:36: UserWarning: To copy construct from a tensor, it is recommended to use sourceTensor.clone().detach() or sourceTensor.clone().detach().requires_grad_(True), rather than torch.tensor(sourceTensor).\n",
            "/usr/local/lib/python3.7/dist-packages/ipykernel_launcher.py:46: UserWarning: To copy construct from a tensor, it is recommended to use sourceTensor.clone().detach() or sourceTensor.clone().detach().requires_grad_(True), rather than torch.tensor(sourceTensor).\n",
            "/usr/local/lib/python3.7/dist-packages/ipykernel_launcher.py:48: UserWarning: To copy construct from a tensor, it is recommended to use sourceTensor.clone().detach() or sourceTensor.clone().detach().requires_grad_(True), rather than torch.tensor(sourceTensor).\n",
            "/usr/local/lib/python3.7/dist-packages/ipykernel_launcher.py:57: UserWarning: To copy construct from a tensor, it is recommended to use sourceTensor.clone().detach() or sourceTensor.clone().detach().requires_grad_(True), rather than torch.tensor(sourceTensor).\n"
          ]
        },
        {
          "output_type": "stream",
          "name": "stdout",
          "text": [
            "Epoch:  1  val loss:  0.42591181869604317  val acc:  0.8702216744422913  train loss :  0.5574859466933965  train acc:  0.8288835883140564\n",
            "Epoch:  2  val loss:  0.3409509005650142  val acc:  0.8944907784461975  train loss :  0.35516519253855966  train acc:  0.8887956142425537\n",
            "Epoch:  3  val loss:  0.2920472039024027  val acc:  0.9107332229614258  train loss :  0.2633469488577115  train acc:  0.9176449179649353\n",
            "Epoch:  4  val loss:  0.26485146580778024  val acc:  0.9208487868309021  train loss :  0.20500069711974273  train acc:  0.937577486038208\n",
            "Epoch:  5  val loss:  0.2513603349160752  val acc:  0.9264212250709534  train loss :  0.1669982725976589  train acc:  0.9504057168960571\n",
            "Epoch:  6  val loss:  0.24336148459552367  val acc:  0.929501473903656  train loss :  0.14067297033501625  train acc:  0.9598614573478699\n",
            "Epoch:  7  val loss:  0.23734658687939514  val acc:  0.9315987825393677  train loss :  0.12240783106888319  train acc:  0.9670762419700623\n",
            "Epoch:  8  val loss:  0.23492884724416804  val acc:  0.9325119256973267  train loss :  0.10965562853868711  train acc:  0.9717854261398315\n",
            "Epoch:  9  val loss:  0.23859805578831583  val acc:  0.9333258867263794  train loss :  0.1004039620926449  train acc:  0.9745240807533264\n",
            "Epoch:  10  val loss:  0.24239884305200374  val acc:  0.9333087205886841  train loss :  0.09331816579669844  train acc:  0.9770084023475647\n"
          ]
        }
      ]
    },
    {
      "cell_type": "code",
      "source": [
        "import matplotlib.pyplot as plt\n",
        "\n",
        "\n",
        "plt.plot(val_loss_list)\n",
        "plt.plot(train_loss_list)\n",
        "\n",
        "plt.xlabel(\"Epoch\")\n",
        "plt.ylabel(\"loss\")\n",
        "plt.title(\"loss / epoch (RNN:hidden layer size : 512)\")\n",
        "plt.show()"
      ],
      "metadata": {
        "colab": {
          "base_uri": "https://localhost:8080/",
          "height": 295
        },
        "id": "uQ3tGOpkGlrz",
        "outputId": "eb026b45-93b4-46f7-d278-5ca18e97510c"
      },
      "execution_count": null,
      "outputs": [
        {
          "output_type": "display_data",
          "data": {
            "text/plain": [
              "<Figure size 432x288 with 1 Axes>"
            ],
            "image/png": "[encoded data removed]"
          },
          "metadata": {
            "needs_background": "light"
          }
        }
      ]
    },
    {
      "cell_type": "code",
      "source": [
        "import matplotlib.pyplot as plt\n",
        "\n",
        "\n",
        "plt.plot(val_acc_list)\n",
        "plt.plot(train_acc_list)\n",
        "\n",
        "plt.xlabel(\"Epoch\")\n",
        "plt.ylabel(\"Accuracy\")\n",
        "plt.title(\"Accuracy / epoch (RNN :hidden layer size : 512)\")\n",
        "plt.show()"
      ],
      "metadata": {
        "colab": {
          "base_uri": "https://localhost:8080/",
          "height": 295
        },
        "id": "3fZfw_MBIC1_",
        "outputId": "715189f1-e8ed-4416-8171-2fa6ededb9b8"
      },
      "execution_count": null,
      "outputs": [
        {
          "output_type": "display_data",
          "data": {
            "text/plain": [
              "<Figure size 432x288 with 1 Axes>"
            ],
            "image/png": "[encoded data removed]"
          },
          "metadata": {
            "needs_background": "light"
          }
        }
      ]
    },
    {
      "cell_type": "code",
      "source": [
        "test_acc = 0 \n",
        "for sentence_tag in test_set:\n",
        "\n",
        "\n",
        "  sentence = [s[0] for s in sentence_tag]\n",
        "  sentence = torch.tensor(sequence_to_idx(sentence, word_to_idx), dtype=torch.long).to(device)\n",
        "  targets = [s[1] for s in sentence_tag]\n",
        "  targets = torch.tensor(sequence_to_idx(targets, tag_to_idx), dtype=torch.long).to(device)\n",
        "\n",
        "\n",
        "\n",
        "  tag_scores = model(sentence)\n",
        "  _, indices = torch.max(tag_scores, 1)\n",
        "  test_acc += torch.mean(torch.tensor(targets == indices, dtype=torch.float))\n",
        "\n",
        "print(\"test accuracy:\",float(test_acc/len(test_set)))"
      ],
      "metadata": {
        "colab": {
          "base_uri": "https://localhost:8080/"
        },
        "id": "kKZRngIaIGRm",
        "outputId": "90324be7-98e0-4bff-d147-ca7270ec2cf1"
      },
      "execution_count": null,
      "outputs": [
        {
          "output_type": "stream",
          "name": "stderr",
          "text": [
            "/usr/local/lib/python3.7/dist-packages/ipykernel_launcher.py:7: UserWarning: To copy construct from a tensor, it is recommended to use sourceTensor.clone().detach() or sourceTensor.clone().detach().requires_grad_(True), rather than torch.tensor(sourceTensor).\n",
            "  import sys\n",
            "/usr/local/lib/python3.7/dist-packages/ipykernel_launcher.py:9: UserWarning: To copy construct from a tensor, it is recommended to use sourceTensor.clone().detach() or sourceTensor.clone().detach().requires_grad_(True), rather than torch.tensor(sourceTensor).\n",
            "  if __name__ == '__main__':\n",
            "/usr/local/lib/python3.7/dist-packages/ipykernel_launcher.py:15: UserWarning: To copy construct from a tensor, it is recommended to use sourceTensor.clone().detach() or sourceTensor.clone().detach().requires_grad_(True), rather than torch.tensor(sourceTensor).\n",
            "  from ipykernel import kernelapp as app\n"
          ]
        },
        {
          "output_type": "stream",
          "name": "stdout",
          "text": [
            "test accuracy: 0.9353733062744141\n"
          ]
        }
      ]
    },
    {
      "cell_type": "markdown",
      "source": [
        "256 hidden layer : "
      ],
      "metadata": {
        "id": "gNZCr9FHIRSh"
      }
    },
    {
      "cell_type": "code",
      "source": [
        "train_loss_list = []\n",
        "val_loss_list = []\n",
        "train_acc_list =[]\n",
        "val_acc_list =[]\n",
        "for epoch in range(EPOCHS):\n",
        "  \n",
        "  train_loss =0 \n",
        "  train_acc = 0\n",
        "\n",
        "  val_acc = 0\n",
        "  val_loss = 0\n",
        "\n",
        "\n",
        "  for sentence_tag in train_set:\n",
        "    \n",
        "    model.zero_grad()\n",
        "\n",
        "\n",
        "    sentence = [s[0] for s in sentence_tag]\n",
        "    sentence = torch.tensor(sequence_to_idx(sentence, word_to_idx), dtype=torch.long).to(device)\n",
        "    targets = [s[1] for s in sentence_tag]\n",
        "    targets = torch.tensor(sequence_to_idx(targets, tag_to_idx), dtype=torch.long).to(device)\n",
        "\n",
        "\n",
        "    \n",
        "    tag_scores = model(sentence)\n",
        "    \n",
        "    loss = loss_function(tag_scores, targets)\n",
        "    loss.backward()\n",
        "    optimizer.step()\n",
        "    train_loss += loss.item()\n",
        "\n",
        "\n",
        "    _, indices = torch.max(tag_scores, 1)\n",
        "    train_acc += torch.mean(torch.tensor(targets == indices, dtype=torch.float))\n",
        "\n",
        "  train_loss_list.append(train_loss/len(training_data))\n",
        "  train_acc_list.append(float(train_acc/len(training_data)))\n",
        "\n",
        "  for sentence_tag in validation_set:\n",
        "\n",
        "\n",
        "    sentence = [s[0] for s in sentence_tag]\n",
        "    sentence = torch.tensor(sequence_to_idx(sentence, word_to_idx), dtype=torch.long).to(device)\n",
        "    targets = [s[1] for s in sentence_tag]\n",
        "    targets = torch.tensor(sequence_to_idx(targets, tag_to_idx), dtype=torch.long).to(device)\n",
        "\n",
        "\n",
        "\n",
        "    tag_scores = model(sentence)\n",
        "    \n",
        "    loss = loss_function(tag_scores, targets)\n",
        "    val_loss += loss.item()\n",
        "    _, indices = torch.max(tag_scores, 1)\n",
        "    val_acc += torch.mean(torch.tensor(targets == indices, dtype=torch.float))\n",
        "  val_loss_list.append(val_loss/len(valiation_data))\n",
        "  val_acc_list.append(float(val_acc/len(valiation_data)))\n",
        "  print(\"Epoch: \", epoch +1,\" val loss: \",val_loss/len(valiation_data), \" val acc: \", float(val_acc/len(valiation_data)),\n",
        "        \" train loss : \", train_loss/len(training_data),\" train acc: \",float(train_acc/len(training_data)))\n",
        "\n",
        "\n",
        "\n"
      ],
      "metadata": {
        "colab": {
          "base_uri": "https://localhost:8080/"
        },
        "id": "52tr0SYvILR4",
        "outputId": "1526fadb-fe37-4a22-b88c-6454eea6a3db"
      },
      "execution_count": null,
      "outputs": [
        {
          "output_type": "stream",
          "name": "stderr",
          "text": [
            "/usr/local/lib/python3.7/dist-packages/ipykernel_launcher.py:21: UserWarning: To copy construct from a tensor, it is recommended to use sourceTensor.clone().detach() or sourceTensor.clone().detach().requires_grad_(True), rather than torch.tensor(sourceTensor).\n",
            "/usr/local/lib/python3.7/dist-packages/ipykernel_launcher.py:23: UserWarning: To copy construct from a tensor, it is recommended to use sourceTensor.clone().detach() or sourceTensor.clone().detach().requires_grad_(True), rather than torch.tensor(sourceTensor).\n",
            "/usr/local/lib/python3.7/dist-packages/ipykernel_launcher.py:36: UserWarning: To copy construct from a tensor, it is recommended to use sourceTensor.clone().detach() or sourceTensor.clone().detach().requires_grad_(True), rather than torch.tensor(sourceTensor).\n",
            "/usr/local/lib/python3.7/dist-packages/ipykernel_launcher.py:46: UserWarning: To copy construct from a tensor, it is recommended to use sourceTensor.clone().detach() or sourceTensor.clone().detach().requires_grad_(True), rather than torch.tensor(sourceTensor).\n",
            "/usr/local/lib/python3.7/dist-packages/ipykernel_launcher.py:48: UserWarning: To copy construct from a tensor, it is recommended to use sourceTensor.clone().detach() or sourceTensor.clone().detach().requires_grad_(True), rather than torch.tensor(sourceTensor).\n",
            "/usr/local/lib/python3.7/dist-packages/ipykernel_launcher.py:57: UserWarning: To copy construct from a tensor, it is recommended to use sourceTensor.clone().detach() or sourceTensor.clone().detach().requires_grad_(True), rather than torch.tensor(sourceTensor).\n"
          ]
        },
        {
          "output_type": "stream",
          "name": "stdout",
          "text": [
            "Epoch:  1  val loss:  0.4253911466815301  val acc:  0.8719494938850403  train loss :  0.6010855151870608  train acc:  0.8217946887016296\n",
            "Epoch:  2  val loss:  0.32414282553113705  val acc:  0.900020956993103  train loss :  0.3489664554388609  train acc:  0.8944529891014099\n",
            "Epoch:  3  val loss:  0.2698505543135868  val acc:  0.9171392917633057  train loss :  0.25285329079955654  train acc:  0.9223975539207458\n",
            "Epoch:  4  val loss:  0.24521246291911214  val acc:  0.9265948534011841  train loss :  0.1942032981483796  train acc:  0.9407693147659302\n",
            "Epoch:  5  val loss:  0.23300543566769089  val acc:  0.9311259984970093  train loss :  0.15664787143851244  train acc:  0.9545018672943115\n",
            "Epoch:  6  val loss:  0.22554152238688843  val acc:  0.9333721399307251  train loss :  0.13129249621436753  train acc:  0.963456392288208\n",
            "Epoch:  7  val loss:  0.22137469965274392  val acc:  0.9346216320991516  train loss :  0.11356467957316088  train acc:  0.9698971509933472\n",
            "Epoch:  8  val loss:  0.219397456628537  val acc:  0.9356895089149475  train loss :  0.10107901690491258  train acc:  0.9742268919944763\n",
            "Epoch:  9  val loss:  0.2193012888485001  val acc:  0.9368107914924622  train loss :  0.09219309708989823  train acc:  0.977581262588501\n",
            "Epoch:  10  val loss:  0.2201752430254441  val acc:  0.9371931552886963  train loss :  0.0856124759093012  train acc:  0.9797595739364624\n"
          ]
        }
      ]
    },
    {
      "cell_type": "code",
      "source": [
        "import matplotlib.pyplot as plt\n",
        "\n",
        "\n",
        "plt.plot(val_loss_list)\n",
        "plt.plot(train_loss_list)\n",
        "\n",
        "plt.xlabel(\"Epoch\")\n",
        "plt.ylabel(\"loss\")\n",
        "plt.title(\"loss / epoch (RNN:hidden layer size : 256)\")\n",
        "plt.show()"
      ],
      "metadata": {
        "colab": {
          "base_uri": "https://localhost:8080/",
          "height": 295
        },
        "id": "3G79xtFTIes5",
        "outputId": "5e1b7724-81e8-4432-974e-1c76a689b9b9"
      },
      "execution_count": null,
      "outputs": [
        {
          "output_type": "display_data",
          "data": {
            "text/plain": [
              "<Figure size 432x288 with 1 Axes>"
            ],
            "image/png": "[encoded data removed]"
          },
          "metadata": {
            "needs_background": "light"
          }
        }
      ]
    },
    {
      "cell_type": "code",
      "source": [
        "import matplotlib.pyplot as plt\n",
        "\n",
        "\n",
        "plt.plot(val_acc_list)\n",
        "plt.plot(train_acc_list)\n",
        "\n",
        "plt.xlabel(\"Epoch\")\n",
        "plt.ylabel(\"Accuracy\")\n",
        "plt.title(\"Accuracy / epoch (RNN :hidden layer size : 256)\")\n",
        "plt.show()"
      ],
      "metadata": {
        "colab": {
          "base_uri": "https://localhost:8080/",
          "height": 295
        },
        "id": "SyLAUQ-kJlhb",
        "outputId": "5a75673f-ddf5-4996-b018-43997cc7ce8d"
      },
      "execution_count": null,
      "outputs": [
        {
          "output_type": "display_data",
          "data": {
            "text/plain": [
              "<Figure size 432x288 with 1 Axes>"
            ],
            "image/png": "[encoded data removed]"
          },
          "metadata": {
            "needs_background": "light"
          }
        }
      ]
    },
    {
      "cell_type": "code",
      "source": [
        "test_acc = 0 \n",
        "for sentence_tag in test_set:\n",
        "\n",
        "\n",
        "  sentence = [s[0] for s in sentence_tag]\n",
        "  sentence = torch.tensor(sequence_to_idx(sentence, word_to_idx), dtype=torch.long).to(device)\n",
        "  targets = [s[1] for s in sentence_tag]\n",
        "  targets = torch.tensor(sequence_to_idx(targets, tag_to_idx), dtype=torch.long).to(device)\n",
        "\n",
        "\n",
        "\n",
        "  tag_scores = model(sentence)\n",
        "  _, indices = torch.max(tag_scores, 1)\n",
        "  test_acc += torch.mean(torch.tensor(targets == indices, dtype=torch.float))\n",
        "\n",
        "print(\"test accuracy:\",float(test_acc/len(test_set)))"
      ],
      "metadata": {
        "colab": {
          "base_uri": "https://localhost:8080/"
        },
        "id": "FgGCtsfMJpDg",
        "outputId": "b4475994-2f0b-4098-ba9b-f10c6d17fbba"
      },
      "execution_count": null,
      "outputs": [
        {
          "output_type": "stream",
          "name": "stderr",
          "text": [
            "/usr/local/lib/python3.7/dist-packages/ipykernel_launcher.py:7: UserWarning: To copy construct from a tensor, it is recommended to use sourceTensor.clone().detach() or sourceTensor.clone().detach().requires_grad_(True), rather than torch.tensor(sourceTensor).\n",
            "  import sys\n",
            "/usr/local/lib/python3.7/dist-packages/ipykernel_launcher.py:9: UserWarning: To copy construct from a tensor, it is recommended to use sourceTensor.clone().detach() or sourceTensor.clone().detach().requires_grad_(True), rather than torch.tensor(sourceTensor).\n",
            "  if __name__ == '__main__':\n",
            "/usr/local/lib/python3.7/dist-packages/ipykernel_launcher.py:15: UserWarning: To copy construct from a tensor, it is recommended to use sourceTensor.clone().detach() or sourceTensor.clone().detach().requires_grad_(True), rather than torch.tensor(sourceTensor).\n",
            "  from ipykernel import kernelapp as app\n"
          ]
        },
        {
          "output_type": "stream",
          "name": "stdout",
          "text": [
            "test accuracy: 0.9434053301811218\n"
          ]
        }
      ]
    },
    {
      "cell_type": "code",
      "source": [
        ""
      ],
      "metadata": {
        "id": "opBNebqZJu-8"
      },
      "execution_count": null,
      "outputs": []
    }
  ]
}